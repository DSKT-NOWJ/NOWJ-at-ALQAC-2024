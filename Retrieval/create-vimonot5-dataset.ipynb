{
 "cells": [
  {
   "cell_type": "code",
   "execution_count": 1,
   "id": "771e02c4",
   "metadata": {
    "execution": {
     "iopub.execute_input": "2024-07-05T10:32:56.935131Z",
     "iopub.status.busy": "2024-07-05T10:32:56.934754Z",
     "iopub.status.idle": "2024-07-05T10:33:00.703838Z",
     "shell.execute_reply": "2024-07-05T10:33:00.702631Z"
    },
    "papermill": {
     "duration": 3.777092,
     "end_time": "2024-07-05T10:33:00.706808",
     "exception": false,
     "start_time": "2024-07-05T10:32:56.929716",
     "status": "completed"
    },
    "tags": []
   },
   "outputs": [],
   "source": [
    "import json\n",
    "import random\n",
    "\n",
    "# Load the question and law data\n",
    "with open('/kaggle/input/data-qa-991/question_9.91_train_gui_duy.json', 'r') as qftr:\n",
    "    question_data_train = json.load(qftr)\n",
    "        \n",
    "with open('/kaggle/input/data-qa-991/question_9.91_test_gui_duy.json', 'r') as qfte:\n",
    "    question_data_test = json.load(qfte)\n",
    "\n",
    "with open('/kaggle/input/law-non-dup-12/law_nondup copy 12.json', 'r') as lf:\n",
    "    law_data = json.load(lf)"
   ]
  },
  {
   "cell_type": "code",
   "execution_count": 2,
   "id": "f3fe3705",
   "metadata": {
    "_cell_guid": "b1076dfc-b9ad-4769-8c92-a6c4dae69d19",
    "_uuid": "8f2839f25d086af736a60e9eeb907d3b93b6e0e5",
    "execution": {
     "iopub.execute_input": "2024-07-05T10:33:00.715054Z",
     "iopub.status.busy": "2024-07-05T10:33:00.713716Z",
     "iopub.status.idle": "2024-07-05T10:33:00.721569Z",
     "shell.execute_reply": "2024-07-05T10:33:00.720444Z"
    },
    "papermill": {
     "duration": 0.014147,
     "end_time": "2024-07-05T10:33:00.724049",
     "exception": false,
     "start_time": "2024-07-05T10:33:00.709902",
     "status": "completed"
    },
    "tags": []
   },
   "outputs": [],
   "source": [
    "# Create a dictionary for quick lookup of laws by their IDs\n",
    "law_dict = {}\n",
    "for law in law_data:\n",
    "    law_dict[law['id']] = law"
   ]
  },
  {
   "cell_type": "code",
   "execution_count": 3,
   "id": "558638ab",
   "metadata": {
    "execution": {
     "iopub.execute_input": "2024-07-05T10:33:00.732009Z",
     "iopub.status.busy": "2024-07-05T10:33:00.731573Z",
     "iopub.status.idle": "2024-07-05T10:33:00.747505Z",
     "shell.execute_reply": "2024-07-05T10:33:00.746506Z"
    },
    "papermill": {
     "duration": 0.022955,
     "end_time": "2024-07-05T10:33:00.749763",
     "exception": false,
     "start_time": "2024-07-05T10:33:00.726808",
     "status": "completed"
    },
    "tags": []
   },
   "outputs": [],
   "source": [
    "number_of_negative_samples = 2\n",
    "\n",
    "# Function to find a random article from the same law but different from the correct article\n",
    "def find_hard_negative(law, relevant_id):\n",
    "    # Flatten all sections and articles in the law except the correct one\n",
    "    articles = []\n",
    "    for chapter in law['content']:\n",
    "        for section in chapter['content_Chapter']:\n",
    "            for article in section['content_Section']:\n",
    "                if (chapter['id_Chapter'], section['id_Section'], article['id_Article']) not in relevant_id:\n",
    "                    articles.append(article['content_Article'])\n",
    "    return random.sample(articles, min(number_of_negative_samples, len(articles))) if articles else None\n",
    "\n",
    "# Function to find a random article from a different law\n",
    "def find_soft_negative(law_dict, correct_law_id, num_laws=2, num_chapters=2, num_sections=2, num_articles=2):\n",
    "    random_articles = []\n",
    "\n",
    "    while len(random_articles) < number_of_negative_samples:\n",
    "        random_law_ids = random.sample([key for key in law_dict.keys() if key != correct_law_id], num_laws)\n",
    "        \n",
    "        for random_law_id in random_law_ids:\n",
    "            random_law = law_dict[random_law_id]\n",
    "            random_chapters = random.sample(random_law['content'], min(num_chapters, len(random_law['content'])))\n",
    "#             print(len(random_chapters))\n",
    "            for random_chapter in random_chapters:\n",
    "                random_sections = random.sample(random_chapter['content_Chapter'], min(num_sections, len(random_chapter['content_Chapter'])))\n",
    "#                 print(len(random_sections))\n",
    "                for random_section in random_sections:\n",
    "                    random_articles_in_section = random.sample(random_section['content_Section'], min(num_articles, len(random_section['content_Section'])))\n",
    "                    \n",
    "                    for random_article in random_articles_in_section:\n",
    "                        random_articles.append(random_article['content_Article'])\n",
    "    \n",
    "    return random.sample(random_articles, min(number_of_negative_samples, len(random_articles))) if random_articles else None\n",
    "\n",
    "# Function to process the questions and match the relevant laws\n",
    "def process_questions(question_data, law_dict):\n",
    "    for question in question_data:\n",
    "        relevant_id = []\n",
    "        for relevant_law in question['relevant_laws']:\n",
    "            chapter_id = relevant_law['id_Chapter']\n",
    "            section_id = relevant_law['id_Section']\n",
    "            article_id = relevant_law['id_Article']\n",
    "            relevant_id.append((chapter_id, section_id, article_id))\n",
    "            \n",
    "        for relevant_law in question['relevant_laws']:\n",
    "            law_id = relevant_law['id_Law']\n",
    "            chapter_id = relevant_law['id_Chapter']\n",
    "            section_id = relevant_law['id_Section']\n",
    "            article_id = relevant_law['id_Article']\n",
    "\n",
    "            # Find the corresponding law\n",
    "            if law_id in law_dict:\n",
    "                law = law_dict[law_id]\n",
    "                for chapter in law['content']:\n",
    "                    if chapter['id_Chapter'] == chapter_id:\n",
    "                        for section in chapter['content_Chapter']:\n",
    "                            if section['id_Section'] == section_id:\n",
    "                                for article in section['content_Section']:\n",
    "                                    if article['id_Article'] == article_id:\n",
    "                                        # Add the content of the article to the relevant law in the question\n",
    "                                        relevant_law['content'] = article['content_Article']\n",
    "\n",
    "                                        # Add a soft negative\n",
    "                                        relevant_law['soft_negative'] = find_soft_negative(law_dict, law_id)\n",
    "\n",
    "                                        # Add a hard negative\n",
    "                                        relevant_law['hard_negative'] = find_hard_negative(law, relevant_id)\n"
   ]
  },
  {
   "cell_type": "code",
   "execution_count": 4,
   "id": "f670c248",
   "metadata": {
    "execution": {
     "iopub.execute_input": "2024-07-05T10:33:00.756381Z",
     "iopub.status.busy": "2024-07-05T10:33:00.756038Z",
     "iopub.status.idle": "2024-07-05T10:33:06.181097Z",
     "shell.execute_reply": "2024-07-05T10:33:06.180181Z"
    },
    "papermill": {
     "duration": 5.431198,
     "end_time": "2024-07-05T10:33:06.183574",
     "exception": false,
     "start_time": "2024-07-05T10:33:00.752376",
     "status": "completed"
    },
    "tags": []
   },
   "outputs": [],
   "source": [
    "process_questions(question_data_train, law_dict)\n",
    "process_questions(question_data_test, law_dict)"
   ]
  },
  {
   "cell_type": "code",
   "execution_count": 5,
   "id": "6071fc11",
   "metadata": {
    "execution": {
     "iopub.execute_input": "2024-07-05T10:33:06.190523Z",
     "iopub.status.busy": "2024-07-05T10:33:06.190147Z",
     "iopub.status.idle": "2024-07-05T10:33:10.068469Z",
     "shell.execute_reply": "2024-07-05T10:33:10.067485Z"
    },
    "papermill": {
     "duration": 3.884773,
     "end_time": "2024-07-05T10:33:10.070950",
     "exception": false,
     "start_time": "2024-07-05T10:33:06.186177",
     "status": "completed"
    },
    "tags": []
   },
   "outputs": [],
   "source": [
    "# Save the updated question data\n",
    "with open(f'updated_question_file_train_{number_of_negative_samples}negative.json', 'w') as f:\n",
    "    json.dump(question_data_train, f, ensure_ascii=False, indent=4)\n",
    "\n",
    "with open(f'updated_question_file_test_{number_of_negative_samples}negative.json', 'w') as f:\n",
    "    json.dump(question_data_test, f, ensure_ascii=False, indent=4)"
   ]
  },
  {
   "cell_type": "code",
   "execution_count": null,
   "id": "51102005",
   "metadata": {
    "papermill": {
     "duration": 0.002222,
     "end_time": "2024-07-05T10:33:10.075946",
     "exception": false,
     "start_time": "2024-07-05T10:33:10.073724",
     "status": "completed"
    },
    "tags": []
   },
   "outputs": [],
   "source": []
  }
 ],
 "metadata": {
  "kaggle": {
   "accelerator": "none",
   "dataSources": [
    {
     "datasetId": 5266344,
     "sourceId": 8764704,
     "sourceType": "datasetVersion"
    },
    {
     "datasetId": 5266357,
     "sourceId": 8764723,
     "sourceType": "datasetVersion"
    }
   ],
   "dockerImageVersionId": 30732,
   "isGpuEnabled": false,
   "isInternetEnabled": true,
   "language": "python",
   "sourceType": "notebook"
  },
  "kernelspec": {
   "display_name": "Python 3",
   "language": "python",
   "name": "python3"
  },
  "language_info": {
   "codemirror_mode": {
    "name": "ipython",
    "version": 3
   },
   "file_extension": ".py",
   "mimetype": "text/x-python",
   "name": "python",
   "nbconvert_exporter": "python",
   "pygments_lexer": "ipython3",
   "version": "3.10.13"
  },
  "papermill": {
   "default_parameters": {},
   "duration": 16.588331,
   "end_time": "2024-07-05T10:33:10.598130",
   "environment_variables": {},
   "exception": null,
   "input_path": "__notebook__.ipynb",
   "output_path": "__notebook__.ipynb",
   "parameters": {},
   "start_time": "2024-07-05T10:32:54.009799",
   "version": "2.5.0"
  }
 },
 "nbformat": 4,
 "nbformat_minor": 5
}
